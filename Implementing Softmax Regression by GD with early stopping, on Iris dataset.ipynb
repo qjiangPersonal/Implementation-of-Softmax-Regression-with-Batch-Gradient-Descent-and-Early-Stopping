{
 "cells": [
  {
   "cell_type": "markdown",
   "metadata": {},
   "source": [
    "# Implementing Softmax Regression by using the Batch Gradient Descent with Early Stoppping, on the Iris dataset\n",
    "\n",
    "## Objective:\n",
    "\n",
    "* analyzing the relationship between the types of Iris and its petal length & width.\n",
    "* predicting the type of Iris based on its petal length and width.\n",
    "* realizing shorter run time by using early stopping.\n",
    "\n",
    "## Part 1: Data Preparation\n"
   ]
  },
  {
   "cell_type": "code",
   "execution_count": 152,
   "metadata": {},
   "outputs": [
    {
     "name": "stderr",
     "output_type": "stream",
     "text": [
      "C:\\Users\\antho\\AppData\\Local\\Temp\\ipykernel_11252\\900554092.py:11: DeprecationWarning: `np.int` is a deprecated alias for the builtin `int`. To silence this warning, use `int` by itself. Doing this will not modify any behavior and is safe. When replacing `np.int`, you may wish to use e.g. `np.int64` or `np.int32` to specify the precision. If you wish to review your current use, check the release note link for additional information.\n",
      "Deprecated in NumPy 1.20; for more details and guidance: https://numpy.org/devdocs/release/1.20.0-notes.html#deprecations\n",
      "  y = iris[\"target\"].astype(np.int)\n"
     ]
    }
   ],
   "source": [
    "# loading modules\n",
    "import numpy as np\n",
    "import pandas as pd\n",
    "from sklearn import datasets\n",
    "import matplotlib.pyplot as plt\n",
    "\n",
    "# loading data\n",
    "iris = datasets.load_iris()\n",
    "list(iris.keys())\n",
    "X = iris[\"data\"][:, (2,3)] #petal length & width\n",
    "y = iris[\"target\"].astype(np.int)\n",
    "\n",
    "# adding bias term\n",
    "X = np.c_[np.ones([len(X),1]), X]\n",
    "\n",
    "# splitting training and test datasets\n",
    "def split_train_test(X, y, test_ratio, val_ratio):\n",
    "    test_size = int(len(X) * test_ratio)\n",
    "    val_size = int(len(X) * val_ratio)\n",
    "    train_size = len(X) - test_size - val_size\n",
    "    indices = np.random.permutation(len(X))\n",
    "    X_train = X[indices[:train_size]]\n",
    "    y_train = y[indices[:train_size]]\n",
    "    X_valid = X[indices[train_size:-test_size]]\n",
    "    y_valid = y[indices[train_size:-test_size]]\n",
    "    X_test = X[indices[-test_size:]]\n",
    "    y_test = y[indices[-test_size:]]\n",
    "    return X_train, y_train, X_valid, y_valid, X_test, y_test\n",
    "X_train, y_train, X_valid, y_valid, X_test, y_test = split_train_test(X,y,0.2,0.2)"
   ]
  },
  {
   "cell_type": "markdown",
   "metadata": {},
   "source": [
    "Since the target has 3 classes, we need to encode them into a matrix containing a one-hot vector for each class, in order to train the Softmax Regression model."
   ]
  },
  {
   "cell_type": "code",
   "execution_count": 153,
   "metadata": {},
   "outputs": [],
   "source": [
    "def to_one_hot(y):\n",
    "    n_classes = y.max() + 1\n",
    "    m = len(y)\n",
    "    Y_one_hot = np.zeros((m, n_classes))\n",
    "    Y_one_hot[np.arange(m), y] = 1\n",
    "    return Y_one_hot"
   ]
  },
  {
   "cell_type": "code",
   "execution_count": 154,
   "metadata": {},
   "outputs": [
    {
     "data": {
      "text/plain": [
       "array([2, 0, 0, 1, 0, 0, 2, 1, 1, 0])"
      ]
     },
     "execution_count": 154,
     "metadata": {},
     "output_type": "execute_result"
    }
   ],
   "source": [
    "# demonstrating\n",
    "y_train[:10]"
   ]
  },
  {
   "cell_type": "code",
   "execution_count": 155,
   "metadata": {},
   "outputs": [
    {
     "data": {
      "text/plain": [
       "array([[0., 0., 1.],\n",
       "       [1., 0., 0.],\n",
       "       [1., 0., 0.],\n",
       "       [0., 1., 0.],\n",
       "       [1., 0., 0.],\n",
       "       [1., 0., 0.],\n",
       "       [0., 0., 1.],\n",
       "       [0., 1., 0.],\n",
       "       [0., 1., 0.],\n",
       "       [1., 0., 0.]])"
      ]
     },
     "execution_count": 155,
     "metadata": {},
     "output_type": "execute_result"
    }
   ],
   "source": [
    "to_one_hot(y_train[:10])"
   ]
  },
  {
   "cell_type": "markdown",
   "metadata": {},
   "source": [
    "## Part 2: Fitting the model\n",
    "\n",
    "Recall that the predicted probability by Softmax regression is calculated as follows:\n",
    "\n",
    "$$\\sigma(s(x))_k = \\frac{\\exp(s_k(x))}{\\sum_{j=1}^K \\exp(s_j(x))}$$"
   ]
  },
  {
   "cell_type": "code",
   "execution_count": 156,
   "metadata": {},
   "outputs": [],
   "source": [
    "# implementing softmax prediction funciton\n",
    "def softmax(logits):\n",
    "    exps = np.exp(logits)\n",
    "    exp_sums = np.sum(exps, axis=1, keepdims=True)\n",
    "    return exps / exp_sums"
   ]
  },
  {
   "cell_type": "markdown",
   "metadata": {},
   "source": [
    "The cost function of Softmax regression is:\n",
    "\n",
    "$$\n",
    "J(\\Theta)=-\\frac{1}{m} \\sum_{i=1}^m \\sum_{k=1}^K y_k^{(i)}\\log(\\hat p_k^{(i)})\n",
    "$$\n",
    "\n",
    "and its gradient is:\n",
    "\n",
    "$$\n",
    "\\nabla_{\\theta^{(k)}} J(\\Theta) = \\frac{1}{m} \\sum_{i=1}^m \\Big( \\hat p _k^{(i)} - y_k ^{(i)}\\Big)x^{(i)}\n",
    "$$"
   ]
  },
  {
   "cell_type": "code",
   "execution_count": 157,
   "metadata": {},
   "outputs": [],
   "source": [
    "# implementing the Batch Gradient Descent Algorithm\n",
    "def batch_gradient_descent(X_train, y_train, eta, n_iterations, epsilon):\n",
    "    n_inputs = X_train.shape[1]\n",
    "    n_outputs = len(np.unique(y_train))\n",
    "    Theta = np.random.randn(n_inputs, n_outputs)\n",
    "    y_train_one_hot = to_one_hot(y_train)\n",
    "    y_valid_one_hot = to_one_hot(y_valid)\n",
    "    y_test_one_hot = to_one_hot(y_test)\n",
    "    for iteration in range(n_iterations):\n",
    "        logits = X_train.dot(Theta)\n",
    "        y_proba = softmax(logits)\n",
    "        if iteration % 500 == 0:\n",
    "            loss = -np.mean(np.sum(y_train_one_hot * np.log(y_proba + epsilon), axis=1))\n",
    "        error = y_proba - y_train_one_hot\n",
    "        gradients = 1/len(X_train) * X_train.T.dot(error)\n",
    "        Theta = Theta - eta * gradients\n",
    "    return Theta\n",
    "\n",
    "Theta = batch_gradient_descent(X_train, y_train, 0.01, 5000, 1e-7)"
   ]
  },
  {
   "cell_type": "code",
   "execution_count": 158,
   "metadata": {},
   "outputs": [
    {
     "data": {
      "text/plain": [
       "array([[ 3.32869753, -0.34527866, -4.54519084],\n",
       "       [-2.02548527, -0.77769323,  0.09708478],\n",
       "       [-0.61370951,  0.2207068 ,  0.3770351 ]])"
      ]
     },
     "execution_count": 158,
     "metadata": {},
     "output_type": "execute_result"
    }
   ],
   "source": [
    "# fitted model:\n",
    "Theta"
   ]
  },
  {
   "cell_type": "code",
   "execution_count": 159,
   "metadata": {},
   "outputs": [
    {
     "data": {
      "text/plain": [
       "0.8333333333333334"
      ]
     },
     "execution_count": 159,
     "metadata": {},
     "output_type": "execute_result"
    }
   ],
   "source": [
    "# validating\n",
    "def val_accuracy(X_valid, y_valid, Theta):\n",
    "    logits = X_valid.dot(Theta)\n",
    "    Y_proba = softmax(logits)\n",
    "    y_predict = np.argmax(Y_proba, axis=1)\n",
    "    accuracy_score = np.mean(y_predict == y_valid)\n",
    "    return accuracy_score\n",
    "\n",
    "val_accuracy(X_valid, y_valid, Theta)"
   ]
  },
  {
   "cell_type": "markdown",
   "metadata": {},
   "source": [
    "#### Remark: accuracy will change for each run, because the randomization seed is not fixed.\n",
    "\n",
    "So, let's see an overall accuracy over 100 runs:"
   ]
  },
  {
   "cell_type": "code",
   "execution_count": 160,
   "metadata": {},
   "outputs": [
    {
     "data": {
      "text/plain": [
       "(array([ 1.,  1.,  1.,  7.,  7., 19., 26., 42., 37., 58.]),\n",
       " array([0.66666667, 0.7       , 0.73333333, 0.76666667, 0.8       ,\n",
       "        0.83333333, 0.86666667, 0.9       , 0.93333333, 0.96666667,\n",
       "        1.        ]),\n",
       " <BarContainer object of 10 artists>)"
      ]
     },
     "execution_count": 160,
     "metadata": {},
     "output_type": "execute_result"
    },
    {
     "data": {
      "image/png": "[encoded data removed]",
      "text/plain": [
       "<Figure size 432x288 with 1 Axes>"
      ]
     },
     "metadata": {
      "needs_background": "light"
     },
     "output_type": "display_data"
    }
   ],
   "source": [
    "results = []\n",
    "for counter in range(1, 200):\n",
    "    X_train, y_train, X_valid, y_valid, X_test, y_test = split_train_test(X,y,0.2,0.2)\n",
    "    Theta = batch_gradient_descent(X_train, y_train, 0.01, 5000, 1e-7)\n",
    "    temp = val_accuracy(X_valid, y_valid, Theta)\n",
    "    results.append(temp)\n",
    "\n",
    "plt.hist(results)"
   ]
  },
  {
   "cell_type": "markdown",
   "metadata": {},
   "source": [
    "We see this model is doing pretty well! But we can do better!\n",
    "\n",
    "Let's add the $\\ell_2$ regularization:"
   ]
  },
  {
   "cell_type": "code",
   "execution_count": 161,
   "metadata": {},
   "outputs": [
    {
     "data": {
      "text/plain": [
       "array([[ 4.91174419,  1.14605674, -3.89234417],\n",
       "       [-1.07556068,  0.13235907,  0.94320162],\n",
       "       [-0.45328978, -0.14820346,  0.60149324]])"
      ]
     },
     "execution_count": 161,
     "metadata": {},
     "output_type": "execute_result"
    }
   ],
   "source": [
    "# implementing batch GD algorithm with l2 regularization\n",
    "def batch_gradient_descent_l2regularized(X_train, y_train, eta, n_iterations, epsilon, alpha): # alpha is regularization hyperparameter\n",
    "    n_inputs = X_train.shape[1]\n",
    "    n_outputs = len(np.unique(y_train))\n",
    "    y_train_one_hot = to_one_hot(y_train)\n",
    "    y_valid_one_hot = to_one_hot(y_valid)\n",
    "    y_test_one_hot = to_one_hot(y_test)\n",
    "    Theta = np.random.randn(n_inputs, n_outputs)\n",
    "    for iteration in range(n_iterations):\n",
    "        logits = X_train.dot(Theta)\n",
    "        Y_proba = softmax(logits)\n",
    "        if iteration % 500 == 0:\n",
    "            xentropy_loss = -np.mean(np.sum(y_train_one_hot * np.log(Y_proba + epsilon), axis=1))\n",
    "            l2_loss = 1/2 * np.sum(np.square(Theta[1:]))\n",
    "            loss = xentropy_loss + alpha * l2_loss\n",
    "        error = Y_proba - y_train_one_hot\n",
    "        gradients = 1/len(X_train) * X_train.T.dot(error) + np.r_[np.zeros([1, n_outputs]), alpha * Theta[1:]]\n",
    "        Theta = Theta - eta * gradients\n",
    "    return Theta\n",
    "\n",
    "Theta = batch_gradient_descent_l2regularized(X_train, y_train, 0.1, 5000, 1e-7, 0.1)\n",
    "Theta"
   ]
  },
  {
   "cell_type": "code",
   "execution_count": 162,
   "metadata": {},
   "outputs": [
    {
     "data": {
      "text/plain": [
       "0.9666666666666667"
      ]
     },
     "execution_count": 162,
     "metadata": {},
     "output_type": "execute_result"
    }
   ],
   "source": [
    "val_accuracy(X_valid, y_valid, Theta)"
   ]
  },
  {
   "cell_type": "code",
   "execution_count": 163,
   "metadata": {},
   "outputs": [
    {
     "data": {
      "text/plain": [
       "(array([ 1.,  2.,  2.,  8., 10., 12., 38., 17., 46., 63.]),\n",
       " array([0.56666667, 0.61      , 0.65333333, 0.69666667, 0.74      ,\n",
       "        0.78333333, 0.82666667, 0.87      , 0.91333333, 0.95666667,\n",
       "        1.        ]),\n",
       " <BarContainer object of 10 artists>)"
      ]
     },
     "execution_count": 163,
     "metadata": {},
     "output_type": "execute_result"
    },
    {
     "data": {
      "image/png": "[encoded data removed]",
      "text/plain": [
       "<Figure size 432x288 with 1 Axes>"
      ]
     },
     "metadata": {
      "needs_background": "light"
     },
     "output_type": "display_data"
    }
   ],
   "source": [
    "results = []\n",
    "for counter in range(1, 200):\n",
    "    X_train, y_train, X_valid, y_valid, X_test, y_test = split_train_test(X,y,0.2,0.2)\n",
    "    y_train_one_hot = to_one_hot(y_train)\n",
    "    y_valid_one_hot = to_one_hot(y_valid)\n",
    "    Theta = batch_gradient_descent_l2regularized(X_train, y_train, 0.01, 5000, 1e-7, 0.1)\n",
    "    temp = val_accuracy(X_valid, y_valid, Theta)\n",
    "    results.append(temp)\n",
    "\n",
    "plt.hist(results)"
   ]
  },
  {
   "cell_type": "markdown",
   "metadata": {},
   "source": [
    "\n",
    "Now, let's add early stoppping:"
   ]
  },
  {
   "cell_type": "code",
   "execution_count": 164,
   "metadata": {},
   "outputs": [
    {
     "data": {
      "text/plain": [
       "array([[ 3.65060297,  0.32876716, -1.9857755 ],\n",
       "       [-0.78361508,  0.23404325,  0.56287164],\n",
       "       [-0.40635665, -0.12996651,  0.54905098]])"
      ]
     },
     "execution_count": 164,
     "metadata": {},
     "output_type": "execute_result"
    }
   ],
   "source": [
    "# implementing the early stopping\n",
    "def batch_gradient_descent_l2regularized_earlystopping(X_train, y_train, eta, n_iterations, epsilon, alpha):\n",
    "    n_inputs = X_train.shape[1]\n",
    "    n_outputs = len(np.unique(y_train))\n",
    "    y_train_one_hot = to_one_hot(y_train)\n",
    "    y_valid_one_hot = to_one_hot(y_valid)\n",
    "    y_test_one_hot = to_one_hot(y_test)\n",
    "    best_loss = np.infty\n",
    "    Theta = np.random.randn(n_inputs, n_outputs)\n",
    "    for iteration in range(n_iterations):\n",
    "        logits = X_train.dot(Theta)\n",
    "        Y_proba = softmax(logits)\n",
    "        error = Y_proba - y_train_one_hot\n",
    "        gradients = 1/len(X_train) * X_train.T.dot(error) + np.r_[np.zeros([1, n_outputs]), alpha * Theta[1:]]\n",
    "        Theta = Theta - eta * gradients\n",
    "        logits = X_valid.dot(Theta)\n",
    "        Y_proba = softmax(logits)\n",
    "        xentropy_loss = -np.mean(np.sum(y_valid_one_hot * np.log(Y_proba + epsilon), axis=1))\n",
    "        l2_loss = 1/2 * np.sum(np.square(Theta[1:]))\n",
    "        loss = xentropy_loss + alpha * l2_loss\n",
    "        if loss < best_loss:\n",
    "            best_loss = loss\n",
    "        else:\n",
    "            break\n",
    "    return Theta\n",
    "\n",
    "Theta = batch_gradient_descent_l2regularized_earlystopping(X_train, y_train, 0.01, 5000, 1e-7, 0.1)\n",
    "Theta"
   ]
  },
  {
   "cell_type": "code",
   "execution_count": 165,
   "metadata": {},
   "outputs": [
    {
     "data": {
      "text/plain": [
       "(array([  3.,   0.,   0.,   6.,   0.,   6.,  10.,  16.,  54., 104.]),\n",
       " array([0.13333333, 0.22      , 0.30666667, 0.39333333, 0.48      ,\n",
       "        0.56666667, 0.65333333, 0.74      , 0.82666667, 0.91333333,\n",
       "        1.        ]),\n",
       " <BarContainer object of 10 artists>)"
      ]
     },
     "execution_count": 165,
     "metadata": {},
     "output_type": "execute_result"
    },
    {
     "data": {
      "image/png": "[encoded data removed]",
      "text/plain": [
       "<Figure size 432x288 with 1 Axes>"
      ]
     },
     "metadata": {
      "needs_background": "light"
     },
     "output_type": "display_data"
    }
   ],
   "source": [
    "results = []\n",
    "for counter in range(1, 200):\n",
    "    X_train, y_train, X_valid, y_valid, X_test, y_test = split_train_test(X,y,0.2,0.2)\n",
    "    y_train_one_hot = to_one_hot(y_train)\n",
    "    y_valid_one_hot = to_one_hot(y_valid)\n",
    "    Theta = batch_gradient_descent_l2regularized_earlystopping(X_train, y_train, 0.01, 5000, 1e-7, 0.1)\n",
    "    temp = val_accuracy(X_valid, y_valid, Theta)\n",
    "    results.append(temp)\n",
    "\n",
    "plt.hist(results)"
   ]
  },
  {
   "cell_type": "markdown",
   "metadata": {},
   "source": [
    "## Part 3: Prediction"
   ]
  },
  {
   "cell_type": "code",
   "execution_count": 151,
   "metadata": {},
   "outputs": [
    {
     "data": {
      "text/plain": [
       "0.9333333333333333"
      ]
     },
     "execution_count": 151,
     "metadata": {},
     "output_type": "execute_result"
    }
   ],
   "source": [
    "logits = X_test.dot(Theta)\n",
    "Y_proba = softmax(logits)\n",
    "y_predict = np.argmax(Y_proba, axis=1)\n",
    "\n",
    "accuracy_score = np.mean(y_predict == y_test)\n",
    "accuracy_score"
   ]
  }
 ],
 "metadata": {
  "kernelspec": {
   "display_name": "Python 3.10.0 64-bit",
   "language": "python",
   "name": "python3"
  },
  "language_info": {
   "codemirror_mode": {
    "name": "ipython",
    "version": 3
   },
   "file_extension": ".py",
   "mimetype": "text/x-python",
   "name": "python",
   "nbconvert_exporter": "python",
   "pygments_lexer": "ipython3",
   "version": "3.10.0"
  },
  "orig_nbformat": 4,
  "vscode": {
   "interpreter": {
    "hash": "3f674cce88d736ed0af4f91f986332152988e4d080f9e8a754291934a46a3de6"
   }
  }
 },
 "nbformat": 4,
 "nbformat_minor": 2
}
